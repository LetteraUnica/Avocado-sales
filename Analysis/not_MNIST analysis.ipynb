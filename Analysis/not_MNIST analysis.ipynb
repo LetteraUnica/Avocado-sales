{
 "cells": [
  {
   "cell_type": "code",
   "execution_count": 1,
   "id": "c6eb5b35-f836-4b82-8284-32e5f6049f74",
   "metadata": {},
   "outputs": [],
   "source": [
    "import torch\n",
    "from torch import nn\n",
    "from torch.utils.data import Dataset, DataLoader\n",
    "import pyro\n",
    "import numpy as np\n",
    "import pylab as pl\n",
    "import pandas as pd\n",
    "import sklearn\n",
    "from sklearn import preprocessing\n",
    "from sklearn.model_selection import train_test_split\n",
    "from sklearn.metrics import confusion_matrix\n",
    "from pyro import distributions as dist\n",
    "from pyro.infer import SVI, Trace_ELBO, Predictive\n",
    "from pyro.infer.mcmc import MCMC, HMC, NUTS\n",
    "import seaborn as sns\n",
    "\n",
    "sns.set_theme()\n",
    "\n",
    "from scripts import *\n",
    "from models import *\n",
    "\n",
    "torch.backends.cudnn.benchmark = True"
   ]
  },
  {
   "cell_type": "markdown",
   "id": "d7c92531-f330-40db-933e-0274b3fde0db",
   "metadata": {},
   "source": [
    "## Data Loading"
   ]
  },
  {
   "cell_type": "code",
   "execution_count": 2,
   "id": "90966486-fd4a-4a59-9b16-4982ef41a3ff",
   "metadata": {},
   "outputs": [],
   "source": [
    "from torchvision import transforms as T\n",
    "\n",
    "transforms = nn.Sequential(\n",
    "    T.Normalize([128.], [128.])\n",
    ")\n",
    "scripted_transforms = torch.jit.script(transforms)\n",
    "\n",
    "dataset = load_images(\"../Datasets/notMNIST_small/notMNIST_small\", scripted_transforms)"
   ]
  },
  {
   "cell_type": "code",
   "execution_count": 3,
   "id": "e4d7c54c-6433-451c-ae1d-d766bdb26587",
   "metadata": {},
   "outputs": [],
   "source": [
    "train_size = int(len(dataset)*0.7)\n",
    "test_size = len(dataset)-train_size\n",
    "train_set, val_set = torch.utils.data.random_split(dataset, [train_size, test_size])"
   ]
  },
  {
   "cell_type": "code",
   "execution_count": 4,
   "id": "09c19ebe-dc35-48dc-b4de-f34d75cea192",
   "metadata": {},
   "outputs": [],
   "source": [
    "train_loader = DataLoader(train_set, batch_size=128, num_workers=2, pin_memory=True)\n",
    "val_loader = DataLoader(train_set, batch_size=1024, pin_memory=True)"
   ]
  },
  {
   "cell_type": "markdown",
   "id": "d9c0a6bf-f7ba-483a-a608-6f9a55f21e31",
   "metadata": {},
   "source": [
    "### Train classical CNN"
   ]
  },
  {
   "cell_type": "code",
   "execution_count": 5,
   "id": "7d4ce40b-4052-4336-947a-e85d10f1cc1d",
   "metadata": {
    "tags": []
   },
   "outputs": [
    {
     "name": "stdout",
     "output_type": "stream",
     "text": [
      "Epoch: 10\t loss: 0.17304631904924958\t time: 1.7615087032318115\n"
     ]
    }
   ],
   "source": [
    "cnn = CNN(1, [2,2,2], [32,64,128], n_classes=10, activation=nn.ReLU)\n",
    "optimizer = torch.optim.Adam(cnn.parameters(), lr=2e-3)\n",
    "criterion = nn.CrossEntropyLoss()\n",
    "cnn.fit(train_loader, optimizer, criterion, n_epochs=10)"
   ]
  },
  {
   "cell_type": "code",
   "execution_count": 6,
   "id": "9c0943ca-e113-46b2-9ae5-af7156e5c1fe",
   "metadata": {},
   "outputs": [
    {
     "data": {
      "text/plain": [
       "tensor(0.9504, device='cuda:0')"
      ]
     },
     "execution_count": 6,
     "metadata": {},
     "output_type": "execute_result"
    }
   ],
   "source": [
    "cnn.accuracy(val_loader)"
   ]
  },
  {
   "cell_type": "markdown",
   "id": "45390397-c820-48ac-815f-b951a2baccc9",
   "metadata": {},
   "source": [
    "### Train classical MLP"
   ]
  },
  {
   "cell_type": "code",
   "execution_count": 7,
   "id": "ca451746-c2a4-4712-8bde-ea12c275854c",
   "metadata": {
    "tags": []
   },
   "outputs": [
    {
     "name": "stdout",
     "output_type": "stream",
     "text": [
      "Epoch: 10\t loss: 0.08301731591899562\t time: 0.8531670570373535\n"
     ]
    }
   ],
   "source": [
    "mlp = MLP(784, 10, 1, 512, activation=nn.GELU)\n",
    "optimizer = torch.optim.Adam(mlp.parameters())\n",
    "criterion = nn.CrossEntropyLoss()\n",
    "mlp.fit(train_loader, optimizer, criterion, 10)"
   ]
  },
  {
   "cell_type": "code",
   "execution_count": 8,
   "id": "d6b01b7c-0d11-4492-8b57-39449e18d06f",
   "metadata": {},
   "outputs": [
    {
     "data": {
      "text/plain": [
       "tensor(0.9696, device='cuda:0')"
      ]
     },
     "execution_count": 8,
     "metadata": {},
     "output_type": "execute_result"
    }
   ],
   "source": [
    "mlp.accuracy(val_loader)"
   ]
  },
  {
   "cell_type": "markdown",
   "id": "1c140f44-e49c-41a6-a56f-ea95ac3128e7",
   "metadata": {},
   "source": [
    "### Train Bayesian MLP"
   ]
  },
  {
   "cell_type": "code",
   "execution_count": 12,
   "id": "bb06cf92-2ac6-4870-bf73-65a1a6af65b2",
   "metadata": {
    "tags": []
   },
   "outputs": [
    {
     "name": "stdout",
     "output_type": "stream",
     "text": [
      "Iteration No: 50 ended. Search finished for the next optimal point.\n",
      "Time taken: 9.9972\n",
      "Function value obtained: 0.8214\n",
      "Current minimum: 0.8109\n"
     ]
    }
   ],
   "source": [
    "# I use bayesian optimization to find the best hyperparameters\n",
    "from skopt import gp_minimize\n",
    "from skopt.utils import use_named_args\n",
    "from skopt.space import Real, Integer, Categorical\n",
    "from time import time\n",
    "\n",
    "space  = [Integer(32, 512, \"log-uniform\", name='batch_size'),\n",
    "          Real(10**-5, 10**-1, \"log-uniform\", name='lr'),\n",
    "          Integer(1, 5, name='num_layers'),\n",
    "          Integer(1, 1024, \"log-uniform\", name='hidden_size'),\n",
    "          Categorical([nn.ReLU, nn.SiLU, nn.LeakyReLU, nn.GELU], name='activation')]\n",
    "\n",
    "@use_named_args(space)\n",
    "def objective(**params):\n",
    "    start = time()\n",
    "    device = \"cuda\"\n",
    "        \n",
    "    net = MLP(784, device=device,\n",
    "              num_layers=params[\"num_layers\"],\n",
    "              hidden_size=params[\"hidden_size\"],\n",
    "              activation=params[\"activation\"],\n",
    "              n_classes=10)\n",
    "    bayesian_net = BayesianNetwork(net)\n",
    "    \n",
    "    train_loader = DataLoader(train_set, batch_size=params[\"batch_size\"].item())\n",
    "    optimizer = pyro.optim.ClippedAdam({\"lr\":params[\"lr\"]})\n",
    "    elbo = Trace_ELBO()\n",
    "    bayesian_net.fit(train_loader, optimizer, elbo, n_epochs=5)\n",
    "    \n",
    "    return (1-bayesian_net.accuracy(val_loader, n_samples=10)).item(), time()-start\n",
    "\n",
    "res_gp = gp_minimize(objective, space, acq_func='EIps', n_calls=50, verbose=True)"
   ]
  },
  {
   "cell_type": "code",
   "execution_count": 13,
   "id": "347a6273-4427-4a60-a55a-0aab91315add",
   "metadata": {},
   "outputs": [
    {
     "data": {
      "text/plain": [
       "[512, 0.06783915277773545, 1, 1024, torch.nn.modules.activation.LeakyReLU]"
      ]
     },
     "execution_count": 13,
     "metadata": {},
     "output_type": "execute_result"
    }
   ],
   "source": [
    "# Best parameters\n",
    "res_gp.x"
   ]
  },
  {
   "cell_type": "code",
   "execution_count": 11,
   "id": "3b503220-2f2b-48fa-8f41-44f1d28d6292",
   "metadata": {
    "tags": []
   },
   "outputs": [
    {
     "name": "stdout",
     "output_type": "stream",
     "text": [
      "Epoch: 5\t loss: 1673180.3992585402\t time: 1.7568480968475342\n"
     ]
    }
   ],
   "source": [
    "net = MLP(784, 10, 1, 1024, device = \"cuda\", activation=nn.LeakyReLU)\n",
    "bayesian_net = BayesianNetwork(net)\n",
    "\n",
    "train_loader = DataLoader(train_set, batch_size=512)\n",
    "\n",
    "optimizer = pyro.optim.ClippedAdam({\"lr\":0.06783915277773545})\n",
    "elbo = Trace_ELBO()\n",
    "bayesian_net.fit(train_loader, optimizer, elbo, n_epochs=5)"
   ]
  },
  {
   "cell_type": "code",
   "execution_count": 12,
   "id": "1f1dc15b-1a22-4a49-919e-fb532bcff02a",
   "metadata": {},
   "outputs": [
    {
     "data": {
      "text/plain": [
       "tensor(0.1700, device='cuda:0')"
      ]
     },
     "execution_count": 12,
     "metadata": {},
     "output_type": "execute_result"
    }
   ],
   "source": [
    "bayesian_net.accuracy(val_loader, n_samples=10)"
   ]
  },
  {
   "cell_type": "markdown",
   "id": "e556b507-dc0b-4739-9de5-3a71783e47a4",
   "metadata": {},
   "source": [
    "We see that the accuracty is way worse than a classical MLP, hinting that the posterior distribution isn't well approximated by the guide"
   ]
  }
 ],
 "metadata": {
  "kernelspec": {
   "display_name": "Python 3.8.10 64-bit ('anaconda3': virtualenv)",
   "language": "python",
   "name": "python3810jvsc74a57bd0826ac774da20863171be87f505c983a23ca5099031a67b4f2c0e4fe6baa8958e"
  },
  "language_info": {
   "codemirror_mode": {
    "name": "ipython",
    "version": 3
   },
   "file_extension": ".py",
   "mimetype": "text/x-python",
   "name": "python",
   "nbconvert_exporter": "python",
   "pygments_lexer": "ipython3",
   "version": "3.8.10"
  }
 },
 "nbformat": 4,
 "nbformat_minor": 5
}
