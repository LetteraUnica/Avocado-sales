{
 "cells": [
  {
   "cell_type": "code",
   "execution_count": 1,
   "metadata": {},
   "outputs": [],
   "source": [
    "import torch\n",
    "from torch import nn\n",
    "from torch.utils.data import Dataset, DataLoader\n",
    "import pyro\n",
    "import numpy as np\n",
    "import pylab as pl\n",
    "import pandas as pd\n",
    "import sklearn\n",
    "from sklearn import preprocessing\n",
    "from sklearn.model_selection import train_test_split\n",
    "from sklearn.metrics import confusion_matrix\n",
    "import pyro\n",
    "from pyro import distributions as dist\n",
    "from pyro.infer import SVI, Trace_ELBO, Predictive\n",
    "from pyro.infer.mcmc import MCMC, HMC, NUTS\n",
    "import seaborn as sns\n",
    "\n",
    "sns.set_theme()\n",
    "\n",
    "from scripts import *\n",
    "from models import *"
   ]
  },
  {
   "cell_type": "markdown",
   "metadata": {},
   "source": [
    "## Data Exploration"
   ]
  },
  {
   "cell_type": "code",
   "execution_count": 2,
   "metadata": {},
   "outputs": [],
   "source": [
    "# Import the dataset and remove id column\n",
    "data = pd.read_csv(\"../Datasets/cardiovascular_disease.csv\", sep=\";\")\n",
    "data.drop(\"id\", axis=1, inplace=True)"
   ]
  },
  {
   "cell_type": "code",
   "execution_count": 3,
   "metadata": {},
   "outputs": [
    {
     "data": {
      "text/plain": [
       "age            0\n",
       "gender         0\n",
       "height         0\n",
       "weight         0\n",
       "ap_hi          0\n",
       "ap_lo          0\n",
       "cholesterol    0\n",
       "gluc           0\n",
       "smoke          0\n",
       "alco           0\n",
       "active         0\n",
       "cardio         0\n",
       "dtype: int64"
      ]
     },
     "execution_count": 3,
     "metadata": {},
     "output_type": "execute_result"
    }
   ],
   "source": [
    "# Check if data contains null values\n",
    "data.isnull().sum()"
   ]
  },
  {
   "cell_type": "code",
   "execution_count": 4,
   "metadata": {},
   "outputs": [
    {
     "data": {
      "text/html": [
       "<div>\n",
       "<style scoped>\n",
       "    .dataframe tbody tr th:only-of-type {\n",
       "        vertical-align: middle;\n",
       "    }\n",
       "\n",
       "    .dataframe tbody tr th {\n",
       "        vertical-align: top;\n",
       "    }\n",
       "\n",
       "    .dataframe thead th {\n",
       "        text-align: right;\n",
       "    }\n",
       "</style>\n",
       "<table border=\"1\" class=\"dataframe\">\n",
       "  <thead>\n",
       "    <tr style=\"text-align: right;\">\n",
       "      <th></th>\n",
       "      <th>age</th>\n",
       "      <th>gender</th>\n",
       "      <th>height</th>\n",
       "      <th>weight</th>\n",
       "      <th>ap_hi</th>\n",
       "      <th>ap_lo</th>\n",
       "      <th>cholesterol</th>\n",
       "      <th>gluc</th>\n",
       "      <th>smoke</th>\n",
       "      <th>alco</th>\n",
       "      <th>active</th>\n",
       "      <th>cardio</th>\n",
       "    </tr>\n",
       "  </thead>\n",
       "  <tbody>\n",
       "    <tr>\n",
       "      <th>count</th>\n",
       "      <td>70000.000000</td>\n",
       "      <td>70000.000000</td>\n",
       "      <td>70000.000000</td>\n",
       "      <td>70000.000000</td>\n",
       "      <td>70000.000000</td>\n",
       "      <td>70000.000000</td>\n",
       "      <td>70000.000000</td>\n",
       "      <td>70000.000000</td>\n",
       "      <td>70000.000000</td>\n",
       "      <td>70000.000000</td>\n",
       "      <td>70000.000000</td>\n",
       "      <td>70000.000000</td>\n",
       "    </tr>\n",
       "    <tr>\n",
       "      <th>mean</th>\n",
       "      <td>19468.865814</td>\n",
       "      <td>1.349571</td>\n",
       "      <td>164.359229</td>\n",
       "      <td>74.205690</td>\n",
       "      <td>128.817286</td>\n",
       "      <td>96.630414</td>\n",
       "      <td>1.366871</td>\n",
       "      <td>1.226457</td>\n",
       "      <td>0.088129</td>\n",
       "      <td>0.053771</td>\n",
       "      <td>0.803729</td>\n",
       "      <td>0.499700</td>\n",
       "    </tr>\n",
       "    <tr>\n",
       "      <th>std</th>\n",
       "      <td>2467.251667</td>\n",
       "      <td>0.476838</td>\n",
       "      <td>8.210126</td>\n",
       "      <td>14.395757</td>\n",
       "      <td>154.011419</td>\n",
       "      <td>188.472530</td>\n",
       "      <td>0.680250</td>\n",
       "      <td>0.572270</td>\n",
       "      <td>0.283484</td>\n",
       "      <td>0.225568</td>\n",
       "      <td>0.397179</td>\n",
       "      <td>0.500003</td>\n",
       "    </tr>\n",
       "    <tr>\n",
       "      <th>min</th>\n",
       "      <td>10798.000000</td>\n",
       "      <td>1.000000</td>\n",
       "      <td>55.000000</td>\n",
       "      <td>10.000000</td>\n",
       "      <td>-150.000000</td>\n",
       "      <td>-70.000000</td>\n",
       "      <td>1.000000</td>\n",
       "      <td>1.000000</td>\n",
       "      <td>0.000000</td>\n",
       "      <td>0.000000</td>\n",
       "      <td>0.000000</td>\n",
       "      <td>0.000000</td>\n",
       "    </tr>\n",
       "    <tr>\n",
       "      <th>25%</th>\n",
       "      <td>17664.000000</td>\n",
       "      <td>1.000000</td>\n",
       "      <td>159.000000</td>\n",
       "      <td>65.000000</td>\n",
       "      <td>120.000000</td>\n",
       "      <td>80.000000</td>\n",
       "      <td>1.000000</td>\n",
       "      <td>1.000000</td>\n",
       "      <td>0.000000</td>\n",
       "      <td>0.000000</td>\n",
       "      <td>1.000000</td>\n",
       "      <td>0.000000</td>\n",
       "    </tr>\n",
       "    <tr>\n",
       "      <th>50%</th>\n",
       "      <td>19703.000000</td>\n",
       "      <td>1.000000</td>\n",
       "      <td>165.000000</td>\n",
       "      <td>72.000000</td>\n",
       "      <td>120.000000</td>\n",
       "      <td>80.000000</td>\n",
       "      <td>1.000000</td>\n",
       "      <td>1.000000</td>\n",
       "      <td>0.000000</td>\n",
       "      <td>0.000000</td>\n",
       "      <td>1.000000</td>\n",
       "      <td>0.000000</td>\n",
       "    </tr>\n",
       "    <tr>\n",
       "      <th>75%</th>\n",
       "      <td>21327.000000</td>\n",
       "      <td>2.000000</td>\n",
       "      <td>170.000000</td>\n",
       "      <td>82.000000</td>\n",
       "      <td>140.000000</td>\n",
       "      <td>90.000000</td>\n",
       "      <td>2.000000</td>\n",
       "      <td>1.000000</td>\n",
       "      <td>0.000000</td>\n",
       "      <td>0.000000</td>\n",
       "      <td>1.000000</td>\n",
       "      <td>1.000000</td>\n",
       "    </tr>\n",
       "    <tr>\n",
       "      <th>max</th>\n",
       "      <td>23713.000000</td>\n",
       "      <td>2.000000</td>\n",
       "      <td>250.000000</td>\n",
       "      <td>200.000000</td>\n",
       "      <td>16020.000000</td>\n",
       "      <td>11000.000000</td>\n",
       "      <td>3.000000</td>\n",
       "      <td>3.000000</td>\n",
       "      <td>1.000000</td>\n",
       "      <td>1.000000</td>\n",
       "      <td>1.000000</td>\n",
       "      <td>1.000000</td>\n",
       "    </tr>\n",
       "  </tbody>\n",
       "</table>\n",
       "</div>"
      ],
      "text/plain": [
       "                age        gender        height        weight         ap_hi  \\\n",
       "count  70000.000000  70000.000000  70000.000000  70000.000000  70000.000000   \n",
       "mean   19468.865814      1.349571    164.359229     74.205690    128.817286   \n",
       "std     2467.251667      0.476838      8.210126     14.395757    154.011419   \n",
       "min    10798.000000      1.000000     55.000000     10.000000   -150.000000   \n",
       "25%    17664.000000      1.000000    159.000000     65.000000    120.000000   \n",
       "50%    19703.000000      1.000000    165.000000     72.000000    120.000000   \n",
       "75%    21327.000000      2.000000    170.000000     82.000000    140.000000   \n",
       "max    23713.000000      2.000000    250.000000    200.000000  16020.000000   \n",
       "\n",
       "              ap_lo   cholesterol          gluc         smoke          alco  \\\n",
       "count  70000.000000  70000.000000  70000.000000  70000.000000  70000.000000   \n",
       "mean      96.630414      1.366871      1.226457      0.088129      0.053771   \n",
       "std      188.472530      0.680250      0.572270      0.283484      0.225568   \n",
       "min      -70.000000      1.000000      1.000000      0.000000      0.000000   \n",
       "25%       80.000000      1.000000      1.000000      0.000000      0.000000   \n",
       "50%       80.000000      1.000000      1.000000      0.000000      0.000000   \n",
       "75%       90.000000      2.000000      1.000000      0.000000      0.000000   \n",
       "max    11000.000000      3.000000      3.000000      1.000000      1.000000   \n",
       "\n",
       "             active        cardio  \n",
       "count  70000.000000  70000.000000  \n",
       "mean       0.803729      0.499700  \n",
       "std        0.397179      0.500003  \n",
       "min        0.000000      0.000000  \n",
       "25%        1.000000      0.000000  \n",
       "50%        1.000000      0.000000  \n",
       "75%        1.000000      1.000000  \n",
       "max        1.000000      1.000000  "
      ]
     },
     "execution_count": 4,
     "metadata": {},
     "output_type": "execute_result"
    }
   ],
   "source": [
    "data.describe()"
   ]
  },
  {
   "cell_type": "code",
   "execution_count": 5,
   "metadata": {},
   "outputs": [
    {
     "data": {
      "image/png": "[encoded data removed]",
      "text/plain": [
       "<Figure size 432x288 with 1 Axes>"
      ]
     },
     "metadata": {},
     "output_type": "display_data"
    }
   ],
   "source": [
    "data[[\"age\", \"height\", \"weight\", \"ap_hi\", \"ap_lo\"]].boxplot()\n",
    "pl.yscale(\"log\")"
   ]
  },
  {
   "cell_type": "markdown",
   "metadata": {},
   "source": [
    "From both the boxplot and the summary we see that some entries have unrealistic values, for example blood pressures higher than 1000 or even negative, furthermore a person with height of 250 cm doesn't exist in the world.  \n",
    "We now proceed to remove these outliers"
   ]
  },
  {
   "cell_type": "markdown",
   "metadata": {},
   "source": [
    "## Data cleaning"
   ]
  },
  {
   "cell_type": "code",
   "execution_count": 6,
   "metadata": {},
   "outputs": [
    {
     "name": "stdout",
     "output_type": "stream",
     "text": [
      "Number of outliers: 1220\n"
     ]
    }
   ],
   "source": [
    "ap_hi_filter = np.any([data[\"ap_hi\"] > 250, data[\"ap_hi\"] < 50], 0)\n",
    "ap_lo_filter = np.any([data[\"ap_lo\"] > 210, data[\"ap_lo\"] < 30], 0)\n",
    "height_filter = data[\"height\"] > 230\n",
    "\n",
    "data_filter = np.any([ap_lo_filter, ap_hi_filter, height_filter], 0)\n",
    "\n",
    "print(f\"Number of outliers: {data_filter.sum()}\")"
   ]
  },
  {
   "cell_type": "code",
   "execution_count": 7,
   "metadata": {},
   "outputs": [],
   "source": [
    "data = data[~data_filter]"
   ]
  },
  {
   "cell_type": "markdown",
   "metadata": {},
   "source": [
    "We decided to remove the outliers since we have a lot of data"
   ]
  },
  {
   "cell_type": "code",
   "execution_count": 8,
   "metadata": {},
   "outputs": [],
   "source": [
    "# Split into train and test set\n",
    "\n",
    "X, y = data.iloc[:, :-1], data.iloc[:, -1]\n",
    "\n",
    "X, y = dataframe_to_tensor(X), dataframe_to_tensor(y, normalize=False)\n",
    "\n",
    "x_train, x_test, y_train, y_test = train_test_split(X, y, test_size=0.5)"
   ]
  },
  {
   "cell_type": "markdown",
   "metadata": {},
   "source": [
    "## Define a model"
   ]
  },
  {
   "cell_type": "markdown",
   "metadata": {},
   "source": [
    "### Bayesian logistic regression"
   ]
  },
  {
   "cell_type": "code",
   "execution_count": 9,
   "metadata": {},
   "outputs": [
    {
     "name": "stderr",
     "output_type": "stream",
     "text": [
      "Sample: 100%|██████████| 600/600 [00:06, 90.34it/s, step size=4.99e-01, acc. prob=0.911] \n"
     ]
    }
   ],
   "source": [
    "model = BayesianLogisticRegression().fit(x_train, y_train)"
   ]
  },
  {
   "cell_type": "code",
   "execution_count": 10,
   "metadata": {},
   "outputs": [
    {
     "name": "stdout",
     "output_type": "stream",
     "text": [
      "\n",
      "                mean       std    median      5.0%     95.0%     n_eff     r_hat\n",
      "      w[0]      0.35      0.01      0.35      0.33      0.37       nan      0.99\n",
      "      w[1]     -0.02      0.01     -0.02     -0.04      0.01       nan      1.00\n",
      "      w[2]     -0.03      0.01     -0.03     -0.05     -0.01       nan      1.00\n",
      "      w[3]      0.16      0.01      0.16      0.14      0.18       nan      1.00\n",
      "      w[4]      0.91      0.02      0.91      0.86      0.93       nan      0.99\n",
      "      w[5]      0.16      0.02      0.16      0.13      0.19       nan      0.99\n",
      "      w[6]      0.33      0.02      0.33      0.31      0.35       nan      1.00\n",
      "      w[7]     -0.07      0.01     -0.07     -0.09     -0.06       nan      1.00\n",
      "      w[8]     -0.03      0.02     -0.04     -0.07     -0.01       nan      0.99\n",
      "      w[9]     -0.05      0.01     -0.05     -0.07     -0.03       nan      0.99\n",
      "     w[10]     -0.10      0.01     -0.10     -0.12     -0.09       nan      0.99\n",
      "         b      0.01      0.01      0.01     -0.01      0.03       nan      0.99\n",
      "\n",
      "Number of divergences: 0\n"
     ]
    },
    {
     "name": "stderr",
     "output_type": "stream",
     "text": [
      "/home/lettera/anaconda3/lib/python3.8/site-packages/pyro/infer/mcmc/util.py:416: UserWarning: Traceback (most recent call last):\n",
      "  File \"/home/lettera/anaconda3/lib/python3.8/site-packages/pyro/infer/mcmc/util.py\", line 414, in wrapped\n",
      "    val = fn(sample, *args, **kwargs)\n",
      "  File \"/home/lettera/anaconda3/lib/python3.8/site-packages/pyro/ops/stats.py\", line 184, in effective_sample_size\n",
      "    gamma_k_c = autocovariance(input, dim=0)  # N x C x sample_shape\n",
      "  File \"/home/lettera/anaconda3/lib/python3.8/site-packages/pyro/ops/stats.py\", line 135, in autocovariance\n",
      "    return autocorrelation(input, dim) * input.var(dim, unbiased=False, keepdim=True)\n",
      "  File \"/home/lettera/anaconda3/lib/python3.8/site-packages/pyro/ops/stats.py\", line 112, in autocorrelation\n",
      "    freqvec = torch.rfft(centered_signal, signal_ndim=1, onesided=False)\n",
      "AttributeError: module 'torch' has no attribute 'rfft'\n",
      "\n",
      "  warnings.warn(tb.format_exc())\n"
     ]
    }
   ],
   "source": [
    "model.summary()"
   ]
  },
  {
   "cell_type": "code",
   "execution_count": 11,
   "metadata": {},
   "outputs": [
    {
     "name": "stdout",
     "output_type": "stream",
     "text": [
      "General Accuracy:  0.7246292526897354\n",
      "Class 0: accuracy 0.7868928385341284, support: 17273\n",
      "Class 1: accuracy 0.6617982123035578, support: 17117\n"
     ]
    }
   ],
   "source": [
    "model.score(x_test, y_test)"
   ]
  },
  {
   "cell_type": "markdown",
   "metadata": {},
   "source": [
    "### Classical neural network"
   ]
  },
  {
   "cell_type": "code",
   "execution_count": 9,
   "metadata": {},
   "outputs": [
    {
     "name": "stdout",
     "output_type": "stream",
     "text": [
      "Epoch: 10\t loss: 0.5397266710505766\t time: 0.38463616371154785\n"
     ]
    }
   ],
   "source": [
    "net = MLP(11, 5, 512, device=\"cuda\", activation=nn.SiLU)\n",
    "train_data = MatrixLoader(x_train, y_train.long())\n",
    "test_data = MatrixLoader(x_test, y_test.long())\n",
    "train_loader = DataLoader(train_data, batch_size=2048)\n",
    "test_loader = DataLoader(test_data, batch_size=4096)\n",
    "\n",
    "optimizer = torch.optim.Adam(net.parameters(), lr=0.0025549527865318215)\n",
    "criterion = nn.CrossEntropyLoss()\n",
    "\n",
    "net.fit(train_loader, optimizer, criterion, n_epochs=10)"
   ]
  },
  {
   "cell_type": "code",
   "execution_count": 10,
   "metadata": {},
   "outputs": [
    {
     "data": {
      "text/plain": [
       "tensor(0.7318, device='cuda:0')"
      ]
     },
     "execution_count": 10,
     "metadata": {},
     "output_type": "execute_result"
    }
   ],
   "source": [
    "net.accuracy(test_loader)"
   ]
  },
  {
   "cell_type": "code",
   "execution_count": 24,
   "metadata": {},
   "outputs": [
    {
     "name": "stdout",
     "output_type": "stream",
     "text": [
      "Iteration No: 20 ended. Search finished for the next optimal point.\n",
      "Time taken: 4.1661\n",
      "Function value obtained: 0.4991\n",
      "Current minimum: 0.3168\n"
     ]
    }
   ],
   "source": [
    "from skopt import gp_minimize\n",
    "from skopt.utils import use_named_args\n",
    "from skopt.space import Real, Integer, Categorical\n",
    "from time import time\n",
    "\n",
    "space  = [Integer(64, 4096, \"log-uniform\", name='batch_size'),\n",
    "          Real(10**-5, 10**0, \"log-uniform\", name='lr'),\n",
    "          Integer(1, 5, name='num_layers'),\n",
    "          Integer(1, 128, \"log-uniform\", name='hidden_size'),\n",
    "          Categorical([nn.ReLU, nn.SiLU, nn.LeakyReLU], name='activation')]\n",
    "\n",
    "@use_named_args(space)\n",
    "def objective(**params):\n",
    "    start = time()\n",
    "    device = \"cpu\"\n",
    "    if params[\"batch_size\"] > 128 and params[\"hidden_size\"] > 128:\n",
    "        device = \"cuda\"\n",
    "        \n",
    "    net = MLP(11, device=device,\n",
    "              num_layers=params[\"num_layers\"],\n",
    "              hidden_size=params[\"hidden_size\"],\n",
    "              activation=params[\"activation\"])\n",
    "    bayesian_net = BayesianNetwork(net)\n",
    "    \n",
    "    train_loader = DataLoader(train_data, batch_size=params[\"batch_size\"].item())\n",
    "    optimizer = pyro.optim.ClippedAdam({\"lr\":params[\"lr\"]})\n",
    "    elbo = Trace_ELBO()\n",
    "    bayesian_net.fit(train_loader, optimizer, elbo, n_epochs=10)\n",
    "    \n",
    "    return (1-bayesian_net.accuracy(test_loader, n_samples=10)).item(), time()-start\n",
    "\n",
    "res_gp = gp_minimize(objective, space, acq_func=\"EIps\", n_calls=20, verbose=True, kappa=4.)"
   ]
  },
  {
   "cell_type": "code",
   "execution_count": 25,
   "metadata": {},
   "outputs": [
    {
     "data": {
      "text/plain": [
       "<AxesSubplot:title={'center':'Convergence plot'}, xlabel='Number of calls $n$', ylabel='$\\\\min f(x)$ after $n$ calls'>"
      ]
     },
     "execution_count": 25,
     "metadata": {},
     "output_type": "execute_result"
    },
    {
     "data": {
      "image/png": "[encoded data removed]",
      "text/plain": [
       "<Figure size 432x288 with 1 Axes>"
      ]
     },
     "metadata": {},
     "output_type": "display_data"
    }
   ],
   "source": [
    "from skopt.plots import plot_convergence\n",
    "\n",
    "plot_convergence(res_gp)"
   ]
  },
  {
   "cell_type": "code",
   "execution_count": 26,
   "metadata": {},
   "outputs": [
    {
     "data": {
      "text/plain": [
       "[3798, 0.008281470800122887, 3, 40, torch.nn.modules.activation.LeakyReLU]"
      ]
     },
     "execution_count": 26,
     "metadata": {},
     "output_type": "execute_result"
    }
   ],
   "source": [
    "res_gp.x"
   ]
  },
  {
   "cell_type": "markdown",
   "metadata": {},
   "source": [
    "### Bayesian neural network"
   ]
  },
  {
   "cell_type": "code",
   "execution_count": 30,
   "metadata": {},
   "outputs": [
    {
     "name": "stdout",
     "output_type": "stream",
     "text": [
      "Epoch: 20\t loss: 7870.167872203721\t time: 0.2687356472015381\n"
     ]
    }
   ],
   "source": [
    "net = MLP(11, num_layers=3, hidden_size=40, device=\"cpu\", activation=nn.LeakyReLU)\n",
    "train_loader = DataLoader(train_data, batch_size=4092)\n",
    "bayesian_net = BayesianNetwork(net)\n",
    "optimizer = pyro.optim.ClippedAdam({\"lr\":0.008281470800122887})\n",
    "elbo = Trace_ELBO()\n",
    "\n",
    "bayesian_net.fit(train_loader, optimizer, elbo, n_epochs=20)"
   ]
  },
  {
   "cell_type": "code",
   "execution_count": 31,
   "metadata": {},
   "outputs": [
    {
     "data": {
      "text/plain": [
       "tensor(0.7264)"
      ]
     },
     "execution_count": 31,
     "metadata": {},
     "output_type": "execute_result"
    }
   ],
   "source": [
    "bayesian_net.accuracy(test_loader, n_samples=100)"
   ]
  }
 ],
 "metadata": {
  "interpreter": {
   "hash": "826ac774da20863171be87f505c983a23ca5099031a67b4f2c0e4fe6baa8958e"
  },
  "kernelspec": {
   "display_name": "Python 3",
   "language": "python",
   "name": "python3"
  },
  "language_info": {
   "codemirror_mode": {
    "name": "ipython",
    "version": 3
   },
   "file_extension": ".py",
   "mimetype": "text/x-python",
   "name": "python",
   "nbconvert_exporter": "python",
   "pygments_lexer": "ipython3",
   "version": "3.8.10"
  }
 },
 "nbformat": 4,
 "nbformat_minor": 4
}
