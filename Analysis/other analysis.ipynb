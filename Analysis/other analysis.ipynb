{
 "cells": [
  {
   "cell_type": "code",
   "execution_count": 1,
   "id": "c6eb5b35-f836-4b82-8284-32e5f6049f74",
   "metadata": {},
   "outputs": [],
   "source": [
    "import torch\n",
    "from torch import nn\n",
    "from torch.utils.data import Dataset, DataLoader\n",
    "import pyro\n",
    "import numpy as np\n",
    "import pylab as pl\n",
    "import pandas as pd\n",
    "import sklearn\n",
    "from sklearn import preprocessing\n",
    "from sklearn.model_selection import train_test_split\n",
    "from sklearn.metrics import confusion_matrix\n",
    "from pyro import distributions as dist\n",
    "from pyro.infer import SVI, Trace_ELBO, Predictive\n",
    "from pyro.infer.mcmc import MCMC, HMC, NUTS\n",
    "import seaborn as sns\n",
    "\n",
    "sns.set_theme()\n",
    "\n",
    "from scripts import *\n",
    "from models import *\n",
    "\n",
    "torch.backends.cudnn.benchmark = True"
   ]
  },
  {
   "cell_type": "markdown",
   "id": "d7c92531-f330-40db-933e-0274b3fde0db",
   "metadata": {},
   "source": [
    "## Data Loading"
   ]
  },
  {
   "cell_type": "code",
   "execution_count": 2,
   "id": "90966486-fd4a-4a59-9b16-4982ef41a3ff",
   "metadata": {},
   "outputs": [],
   "source": [
    "from torchvision import transforms as T\n",
    "\n",
    "transforms = nn.Sequential(\n",
    "    T.Normalize([128., 128., 128.], [128., 128., 128.])\n",
    ")\n",
    "scripted_transforms = torch.jit.script(transforms)\n",
    "\n",
    "dataset = load_images(\"../Datasets/fruits-360/Training\", scripted_transforms)"
   ]
  },
  {
   "cell_type": "code",
   "execution_count": 4,
   "id": "e4d7c54c-6433-451c-ae1d-d766bdb26587",
   "metadata": {},
   "outputs": [],
   "source": [
    "train_size = int(len(dataset)*0.8)\n",
    "val_size = len(dataset)-train_size\n",
    "train_set, val_set = torch.utils.data.random_split(dataset, [train_size, val_size])\n",
    "\n",
    "test_set = load_images(\"../Datasets/fruits-360/Test\", scripted_transforms)"
   ]
  },
  {
   "cell_type": "code",
   "execution_count": 5,
   "id": "09c19ebe-dc35-48dc-b4de-f34d75cea192",
   "metadata": {},
   "outputs": [],
   "source": [
    "test_loader = DataLoader(test_set, batch_size=64, pin_memory=True)\n",
    "train_loader = DataLoader(train_set, batch_size=16, num_workers=1, pin_memory=True)\n",
    "val_loader = DataLoader(val_set, batch_size=64, pin_memory=True)"
   ]
  },
  {
   "cell_type": "markdown",
   "id": "d9c0a6bf-f7ba-483a-a608-6f9a55f21e31",
   "metadata": {},
   "source": [
    "### Train classical CNN"
   ]
  },
  {
   "cell_type": "code",
   "execution_count": 6,
   "id": "7d4ce40b-4052-4336-947a-e85d10f1cc1d",
   "metadata": {
    "tags": []
   },
   "outputs": [
    {
     "name": "stdout",
     "output_type": "stream",
     "text": [
      "Epoch: 20\t loss: 7.033911453902714e-07\t time: 98.40192985534668\tval accuracy: 0.9998522400856018\n"
     ]
    }
   ],
   "source": [
    "cnn = CNN(3, [2,2,2,2,2], [32,64,128,256,512], n_classes=131, activation=nn.GELU, device=\"cuda\")\n",
    "optimizer = torch.optim.Adam(cnn.parameters(), lr=0.0006853838367077866)\n",
    "criterion = nn.CrossEntropyLoss()\n",
    "scheduler = torch.optim.lr_scheduler.ExponentialLR(optimizer, 0.8)\n",
    "cnn.fit(train_loader, optimizer, criterion, n_epochs=20, val_loader=test_loader, scheduler=scheduler)"
   ]
  },
  {
   "cell_type": "code",
   "execution_count": 7,
   "id": "d36db4f7-ba93-4cf9-8645-05ae02df21f4",
   "metadata": {},
   "outputs": [
    {
     "data": {
      "text/plain": [
       "tensor(0.9381, device='cuda:0')"
      ]
     },
     "execution_count": 7,
     "metadata": {},
     "output_type": "execute_result"
    }
   ],
   "source": [
    "cnn.accuracy(test_loader)"
   ]
  },
  {
   "cell_type": "code",
   "execution_count": 10,
   "id": "cb467769-5949-4e08-952c-512e750de11c",
   "metadata": {},
   "outputs": [
    {
     "data": {
      "text/plain": [
       "[<matplotlib.lines.Line2D at 0x7f2a34577a00>]"
      ]
     },
     "execution_count": 10,
     "metadata": {},
     "output_type": "execute_result"
    },
    {
     "data": {
      "image/png": "[encoded data removed]",
      "text/plain": [
       "<Figure size 432x288 with 1 Axes>"
      ]
     },
     "metadata": {},
     "output_type": "display_data"
    }
   ],
   "source": [
    "#pl.plot(cnn.losses)\n",
    "pl.plot(cnn.val_accuracies)"
   ]
  },
  {
   "cell_type": "code",
   "execution_count": 25,
   "id": "ac792dd5-1e12-4db9-a05f-b28a4db32c8c",
   "metadata": {
    "collapsed": true,
    "jupyter": {
     "outputs_hidden": true
    },
    "tags": []
   },
   "outputs": [
    {
     "name": "stdout",
     "output_type": "stream",
     "text": [
      "Iteration No: 1 started. Evaluating function at random point.\n",
      "Iteration No: 1 ended. Evaluation done at random point.\n",
      "Time taken: 60.9746\n",
      "Function value obtained: 0.9908\n",
      "Current minimum: 0.9908\n",
      "Iteration No: 2 started. Evaluating function at random point.\n",
      "Iteration No: 2 ended. Evaluation done at random point.\n",
      "Time taken: 61.1112\n",
      "Function value obtained: 0.9882\n",
      "Current minimum: 0.9882\n",
      "Iteration No: 3 started. Evaluating function at random point.\n",
      "Iteration No: 3 ended. Evaluation done at random point.\n",
      "Time taken: 60.9955\n",
      "Function value obtained: 0.9950\n",
      "Current minimum: 0.9882\n",
      "Iteration No: 4 started. Evaluating function at random point.\n",
      "Iteration No: 4 ended. Evaluation done at random point.\n",
      "Time taken: 61.0521\n",
      "Function value obtained: 0.9897\n",
      "Current minimum: 0.9882\n",
      "Iteration No: 5 started. Evaluating function at random point.\n",
      "Iteration No: 5 ended. Evaluation done at random point.\n",
      "Time taken: 61.2181\n",
      "Function value obtained: 0.9908\n",
      "Current minimum: 0.9882\n",
      "Iteration No: 6 started. Evaluating function at random point.\n",
      "Iteration No: 6 ended. Evaluation done at random point.\n",
      "Time taken: 61.4187\n",
      "Function value obtained: 0.9935\n",
      "Current minimum: 0.9882\n",
      "Iteration No: 7 started. Evaluating function at random point.\n",
      "Iteration No: 7 ended. Evaluation done at random point.\n",
      "Time taken: 61.1798\n",
      "Function value obtained: 0.9914\n",
      "Current minimum: 0.9882\n",
      "Iteration No: 8 started. Evaluating function at random point.\n",
      "Iteration No: 8 ended. Evaluation done at random point.\n",
      "Time taken: 61.0702\n",
      "Function value obtained: 0.7595\n",
      "Current minimum: 0.7595\n",
      "Iteration No: 9 started. Evaluating function at random point.\n",
      "Iteration No: 9 ended. Evaluation done at random point.\n",
      "Time taken: 61.2089\n",
      "Function value obtained: 0.9908\n",
      "Current minimum: 0.7595\n",
      "Iteration No: 10 started. Evaluating function at random point.\n",
      "Iteration No: 10 ended. Evaluation done at random point.\n",
      "Time taken: 61.4879\n",
      "Function value obtained: 0.9935\n",
      "Current minimum: 0.7595\n",
      "Iteration No: 11 started. Searching for the next optimal point.\n",
      "Iteration No: 11 ended. Search finished for the next optimal point.\n",
      "Time taken: 60.8398\n",
      "Function value obtained: 0.9527\n",
      "Current minimum: 0.7595\n",
      "Iteration No: 12 started. Searching for the next optimal point.\n",
      "Iteration No: 12 ended. Search finished for the next optimal point.\n",
      "Time taken: 59.0351\n",
      "Function value obtained: 0.9935\n",
      "Current minimum: 0.7595\n",
      "Iteration No: 13 started. Searching for the next optimal point.\n",
      "Iteration No: 13 ended. Search finished for the next optimal point.\n",
      "Time taken: 59.0042\n",
      "Function value obtained: 0.9897\n",
      "Current minimum: 0.7595\n",
      "Iteration No: 14 started. Searching for the next optimal point.\n",
      "Iteration No: 14 ended. Search finished for the next optimal point.\n",
      "Time taken: 59.0625\n",
      "Function value obtained: 0.9474\n",
      "Current minimum: 0.7595\n",
      "Iteration No: 15 started. Searching for the next optimal point.\n",
      "Iteration No: 15 ended. Search finished for the next optimal point.\n",
      "Time taken: 59.0879\n",
      "Function value obtained: 0.9908\n",
      "Current minimum: 0.7595\n",
      "Iteration No: 16 started. Searching for the next optimal point.\n",
      "Iteration No: 16 ended. Search finished for the next optimal point.\n",
      "Time taken: 59.0335\n",
      "Function value obtained: 0.9935\n",
      "Current minimum: 0.7595\n",
      "Iteration No: 17 started. Searching for the next optimal point.\n",
      "Iteration No: 17 ended. Search finished for the next optimal point.\n",
      "Time taken: 58.9390\n",
      "Function value obtained: 0.9935\n",
      "Current minimum: 0.7595\n",
      "Iteration No: 18 started. Searching for the next optimal point.\n",
      "Iteration No: 18 ended. Search finished for the next optimal point.\n",
      "Time taken: 59.9119\n",
      "Function value obtained: 0.9894\n",
      "Current minimum: 0.7595\n",
      "Iteration No: 19 started. Searching for the next optimal point.\n",
      "Iteration No: 19 ended. Search finished for the next optimal point.\n",
      "Time taken: 61.5616\n",
      "Function value obtained: 0.9941\n",
      "Current minimum: 0.7595\n",
      "Iteration No: 20 started. Searching for the next optimal point.\n",
      "Iteration No: 20 ended. Search finished for the next optimal point.\n",
      "Time taken: 61.6604\n",
      "Function value obtained: 0.9908\n",
      "Current minimum: 0.7595\n",
      "Iteration No: 21 started. Searching for the next optimal point.\n",
      "Iteration No: 21 ended. Search finished for the next optimal point.\n",
      "Time taken: 62.3570\n",
      "Function value obtained: 0.9897\n",
      "Current minimum: 0.7595\n",
      "Iteration No: 22 started. Searching for the next optimal point.\n",
      "Iteration No: 22 ended. Search finished for the next optimal point.\n",
      "Time taken: 61.8157\n",
      "Function value obtained: 0.9663\n",
      "Current minimum: 0.7595\n",
      "Iteration No: 23 started. Searching for the next optimal point.\n",
      "Iteration No: 23 ended. Search finished for the next optimal point.\n",
      "Time taken: 61.9455\n",
      "Function value obtained: 0.9935\n",
      "Current minimum: 0.7595\n",
      "Iteration No: 24 started. Searching for the next optimal point.\n",
      "Iteration No: 24 ended. Search finished for the next optimal point.\n",
      "Time taken: 63.1344\n",
      "Function value obtained: 0.9959\n",
      "Current minimum: 0.7595\n",
      "Iteration No: 25 started. Searching for the next optimal point.\n",
      "Iteration No: 25 ended. Search finished for the next optimal point.\n",
      "Time taken: 63.7143\n",
      "Function value obtained: 0.9908\n",
      "Current minimum: 0.7595\n",
      "Iteration No: 26 started. Searching for the next optimal point.\n",
      "Iteration No: 26 ended. Search finished for the next optimal point.\n",
      "Time taken: 63.6637\n",
      "Function value obtained: 0.9929\n",
      "Current minimum: 0.7595\n",
      "Iteration No: 27 started. Searching for the next optimal point.\n",
      "Iteration No: 27 ended. Search finished for the next optimal point.\n",
      "Time taken: 62.8391\n",
      "Function value obtained: 0.9947\n",
      "Current minimum: 0.7595\n",
      "Iteration No: 28 started. Searching for the next optimal point.\n",
      "Iteration No: 28 ended. Search finished for the next optimal point.\n",
      "Time taken: 61.2628\n",
      "Function value obtained: 0.9838\n",
      "Current minimum: 0.7595\n",
      "Iteration No: 29 started. Searching for the next optimal point.\n",
      "Iteration No: 29 ended. Search finished for the next optimal point.\n",
      "Time taken: 61.5177\n",
      "Function value obtained: 0.9908\n",
      "Current minimum: 0.7595\n",
      "Iteration No: 30 started. Searching for the next optimal point.\n",
      "Iteration No: 30 ended. Search finished for the next optimal point.\n",
      "Time taken: 61.5577\n",
      "Function value obtained: 0.9935\n",
      "Current minimum: 0.7595\n",
      "Iteration No: 31 started. Searching for the next optimal point.\n",
      "Iteration No: 31 ended. Search finished for the next optimal point.\n",
      "Time taken: 61.4927\n",
      "Function value obtained: 0.9985\n",
      "Current minimum: 0.7595\n",
      "Iteration No: 32 started. Searching for the next optimal point.\n",
      "Iteration No: 32 ended. Search finished for the next optimal point.\n",
      "Time taken: 61.5392\n",
      "Function value obtained: 0.9935\n",
      "Current minimum: 0.7595\n",
      "Iteration No: 33 started. Searching for the next optimal point.\n",
      "Iteration No: 33 ended. Search finished for the next optimal point.\n",
      "Time taken: 60.3273\n",
      "Function value obtained: 0.9908\n",
      "Current minimum: 0.7595\n",
      "Iteration No: 34 started. Searching for the next optimal point.\n",
      "Iteration No: 34 ended. Search finished for the next optimal point.\n",
      "Time taken: 58.6727\n",
      "Function value obtained: 0.9660\n",
      "Current minimum: 0.7595\n",
      "Iteration No: 35 started. Searching for the next optimal point.\n",
      "Iteration No: 35 ended. Search finished for the next optimal point.\n",
      "Time taken: 58.7868\n",
      "Function value obtained: 0.9935\n",
      "Current minimum: 0.7595\n",
      "Iteration No: 36 started. Searching for the next optimal point.\n",
      "Iteration No: 36 ended. Search finished for the next optimal point.\n",
      "Time taken: 58.6706\n",
      "Function value obtained: 0.9722\n",
      "Current minimum: 0.7595\n",
      "Iteration No: 37 started. Searching for the next optimal point.\n",
      "Iteration No: 37 ended. Search finished for the next optimal point.\n",
      "Time taken: 58.9814\n",
      "Function value obtained: 0.9908\n",
      "Current minimum: 0.7595\n",
      "Iteration No: 38 started. Searching for the next optimal point.\n",
      "Iteration No: 38 ended. Search finished for the next optimal point.\n",
      "Time taken: 58.5944\n",
      "Function value obtained: 0.9817\n",
      "Current minimum: 0.7595\n",
      "Iteration No: 39 started. Searching for the next optimal point.\n",
      "Iteration No: 39 ended. Search finished for the next optimal point.\n",
      "Time taken: 58.7994\n",
      "Function value obtained: 0.9669\n",
      "Current minimum: 0.7595\n",
      "Iteration No: 40 started. Searching for the next optimal point.\n",
      "Iteration No: 40 ended. Search finished for the next optimal point.\n",
      "Time taken: 58.9476\n",
      "Function value obtained: 0.9625\n",
      "Current minimum: 0.7595\n",
      "Iteration No: 41 started. Searching for the next optimal point.\n",
      "Iteration No: 41 ended. Search finished for the next optimal point.\n",
      "Time taken: 59.1541\n",
      "Function value obtained: 0.9908\n",
      "Current minimum: 0.7595\n",
      "Iteration No: 42 started. Searching for the next optimal point.\n",
      "Iteration No: 42 ended. Search finished for the next optimal point.\n",
      "Time taken: 58.9298\n",
      "Function value obtained: 0.9897\n",
      "Current minimum: 0.7595\n",
      "Iteration No: 43 started. Searching for the next optimal point.\n",
      "Iteration No: 43 ended. Search finished for the next optimal point.\n",
      "Time taken: 58.9101\n",
      "Function value obtained: 0.9944\n",
      "Current minimum: 0.7595\n",
      "Iteration No: 44 started. Searching for the next optimal point.\n",
      "Iteration No: 44 ended. Search finished for the next optimal point.\n",
      "Time taken: 58.6739\n",
      "Function value obtained: 0.9908\n",
      "Current minimum: 0.7595\n",
      "Iteration No: 45 started. Searching for the next optimal point.\n",
      "Iteration No: 45 ended. Search finished for the next optimal point.\n",
      "Time taken: 58.9977\n",
      "Function value obtained: 0.9527\n",
      "Current minimum: 0.7595\n",
      "Iteration No: 46 started. Searching for the next optimal point.\n",
      "Iteration No: 46 ended. Search finished for the next optimal point.\n",
      "Time taken: 58.6752\n",
      "Function value obtained: 0.9894\n",
      "Current minimum: 0.7595\n",
      "Iteration No: 47 started. Searching for the next optimal point.\n",
      "Iteration No: 47 ended. Search finished for the next optimal point.\n",
      "Time taken: 59.0216\n",
      "Function value obtained: 0.7359\n",
      "Current minimum: 0.7359\n",
      "Iteration No: 48 started. Searching for the next optimal point.\n",
      "Iteration No: 48 ended. Search finished for the next optimal point.\n",
      "Time taken: 59.1060\n",
      "Function value obtained: 0.9908\n",
      "Current minimum: 0.7359\n",
      "Iteration No: 49 started. Searching for the next optimal point.\n",
      "Iteration No: 49 ended. Search finished for the next optimal point.\n",
      "Time taken: 59.2455\n",
      "Function value obtained: 0.9897\n",
      "Current minimum: 0.7359\n",
      "Iteration No: 50 started. Searching for the next optimal point.\n",
      "Iteration No: 50 ended. Search finished for the next optimal point.\n",
      "Time taken: 59.0968\n",
      "Function value obtained: 0.8614\n",
      "Current minimum: 0.7359\n"
     ]
    }
   ],
   "source": [
    "# I use bayesian optimization to find the best hyperparameters\n",
    "from skopt import gp_minimize\n",
    "from skopt.utils import use_named_args\n",
    "from skopt.space import Real, Integer, Categorical\n",
    "from time import time\n",
    "\n",
    "space  = [Real(10**-5, 10**-1, \"log-uniform\", name='lr'),\n",
    "          Real(10**-6, 10**-2, \"log-uniform\", name='weight decay'),\n",
    "          Categorical([nn.ReLU, nn.LeakyReLU, nn.GELU], name='activation'),\n",
    "          Real(0.5, 0.99, name='gamma')]\n",
    "\n",
    "@use_named_args(space)\n",
    "def objective(**params):\n",
    "    start = time()\n",
    "    \n",
    "    cnn = CNN(3, [2,2,2,2,2], [32,64,128,256,512], n_classes=131, activation=params[\"activation\"], device=\"cuda\")\n",
    "    optimizer = torch.optim.Adam(cnn.parameters(), lr=params[\"lr\"], weight_decay=params[\"weight decay\"])\n",
    "    criterion = nn.CrossEntropyLoss()\n",
    "    \n",
    "    train_loader = DataLoader(train_set, batch_size=16, num_workers=1, pin_memory=True)\n",
    "    scheduler = torch.optim.lr_scheduler.ExponentialLR(optimizer, params[\"gamma\"])\n",
    "    cnn.fit(train_loader, optimizer, criterion, n_epochs=10, verbose=False, scheduler=scheduler)\n",
    "    \n",
    "    return (1-cnn.accuracy(val_loader)).item(), time()-start\n",
    "\n",
    "res_gp = gp_minimize(objective, space, acq_func='EIps', n_calls=50, verbose=True)"
   ]
  },
  {
   "cell_type": "code",
   "execution_count": 26,
   "id": "85a91956-125c-469f-9a52-89ac77e8b629",
   "metadata": {},
   "outputs": [
    {
     "data": {
      "text/plain": [
       "[0.0006853838367077866,\n",
       " 1.3538189391250366e-05,\n",
       " torch.nn.modules.activation.GELU,\n",
       " 0.9794215021118706]"
      ]
     },
     "execution_count": 26,
     "metadata": {},
     "output_type": "execute_result"
    }
   ],
   "source": [
    "res_gp.x"
   ]
  },
  {
   "cell_type": "code",
   "execution_count": 27,
   "id": "49c61994-6d8d-4967-85ee-0e9665786001",
   "metadata": {},
   "outputs": [
    {
     "data": {
      "text/plain": [
       "<AxesSubplot:title={'center':'Convergence plot'}, xlabel='Number of calls $n$', ylabel='$\\\\min f(x)$ after $n$ calls'>"
      ]
     },
     "execution_count": 27,
     "metadata": {},
     "output_type": "execute_result"
    },
    {
     "data": {
      "image/png": "[encoded data removed]",
      "text/plain": [
       "<Figure size 432x288 with 1 Axes>"
      ]
     },
     "metadata": {},
     "output_type": "display_data"
    }
   ],
   "source": [
    "from skopt.plots import plot_convergence\n",
    "\n",
    "plot_convergence(res_gp)"
   ]
  }
 ],
 "metadata": {
  "kernelspec": {
   "display_name": "Python 3.8.10 64-bit ('anaconda3': virtualenv)",
   "language": "python",
   "name": "python3810jvsc74a57bd0826ac774da20863171be87f505c983a23ca5099031a67b4f2c0e4fe6baa8958e"
  },
  "language_info": {
   "codemirror_mode": {
    "name": "ipython",
    "version": 3
   },
   "file_extension": ".py",
   "mimetype": "text/x-python",
   "name": "python",
   "nbconvert_exporter": "python",
   "pygments_lexer": "ipython3",
   "version": "3.8.10"
  }
 },
 "nbformat": 4,
 "nbformat_minor": 5
}
