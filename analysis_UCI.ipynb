{
 "metadata": {
  "language_info": {
   "codemirror_mode": {
    "name": "ipython",
    "version": 3
   },
   "file_extension": ".py",
   "mimetype": "text/x-python",
   "name": "python",
   "nbconvert_exporter": "python",
   "pygments_lexer": "ipython3",
   "version": "3.9.5"
  },
  "orig_nbformat": 4,
  "kernelspec": {
   "name": "python3",
   "display_name": "Python 3.9.5 64-bit ('pytorch': conda)"
  },
  "interpreter": {
   "hash": "473297526cef0b63cde6061c30fc5781ec0366ecb219ec17eb118d28b3bc0202"
  }
 },
 "nbformat": 4,
 "nbformat_minor": 2,
 "cells": [
  {
   "source": [
    "# Heart disease UCI dataset\n",
    "[the dataset](https://www.kaggle.com/ronitf/heart-disease-uci)\n",
    "[guide to dataset variables](https://www.kaggle.com/onatto/predicting-heart-disease-a-detailed-guide)"
   ],
   "cell_type": "markdown",
   "metadata": {}
  },
  {
   "cell_type": "code",
   "execution_count": 15,
   "metadata": {},
   "outputs": [],
   "source": [
    "import torch\n",
    "import pyro\n",
    "import numpy as np\n",
    "import pylab as pl\n",
    "import pandas as pd\n",
    "import sklearn\n",
    "from sklearn import preprocessing\n",
    "from sklearn.model_selection import train_test_split\n",
    "import pyro\n",
    "from pyro import distributions as dist\n",
    "from pyro.infer.mcmc import MCMC, HMC, NUTS\n",
    "import seaborn as sns\n",
    "\n",
    "sns.set_theme()\n",
    "\n",
    "from scripts import *\n",
    "\n",
    "pd.options.mode.chained_assignment = None  #hide pandas warnings"
   ]
  },
  {
   "source": [
    "## Data exploration"
   ],
   "cell_type": "markdown",
   "metadata": {}
  },
  {
   "cell_type": "code",
   "execution_count": 53,
   "metadata": {},
   "outputs": [],
   "source": [
    "# Import the dataset and remove id column\n",
    "data = pd.read_csv(\"Datasets/heart_disease_UCI.csv\", sep=\",\")\n"
   ]
  },
  {
   "cell_type": "code",
   "execution_count": 54,
   "metadata": {},
   "outputs": [
    {
     "output_type": "execute_result",
     "data": {
      "text/plain": [
       "   age  sex  cp  trestbps  chol  fbs  restecg  thalach  exang  oldpeak  slope  \\\n",
       "0   63    1   3       145   233    1        0      150      0      2.3      0   \n",
       "1   37    1   2       130   250    0        1      187      0      3.5      0   \n",
       "2   41    0   1       130   204    0        0      172      0      1.4      2   \n",
       "3   56    1   1       120   236    0        1      178      0      0.8      2   \n",
       "4   57    0   0       120   354    0        1      163      1      0.6      2   \n",
       "5   57    1   0       140   192    0        1      148      0      0.4      1   \n",
       "6   56    0   1       140   294    0        0      153      0      1.3      1   \n",
       "7   44    1   1       120   263    0        1      173      0      0.0      2   \n",
       "8   52    1   2       172   199    1        1      162      0      0.5      2   \n",
       "9   57    1   2       150   168    0        1      174      0      1.6      2   \n",
       "\n",
       "   ca  thal  target  \n",
       "0   0     1       1  \n",
       "1   0     2       1  \n",
       "2   0     2       1  \n",
       "3   0     2       1  \n",
       "4   0     2       1  \n",
       "5   0     1       1  \n",
       "6   0     2       1  \n",
       "7   0     3       1  \n",
       "8   0     3       1  \n",
       "9   0     2       1  "
      ],
      "text/html": "<div>\n<style scoped>\n    .dataframe tbody tr th:only-of-type {\n        vertical-align: middle;\n    }\n\n    .dataframe tbody tr th {\n        vertical-align: top;\n    }\n\n    .dataframe thead th {\n        text-align: right;\n    }\n</style>\n<table border=\"1\" class=\"dataframe\">\n  <thead>\n    <tr style=\"text-align: right;\">\n      <th></th>\n      <th>age</th>\n      <th>sex</th>\n      <th>cp</th>\n      <th>trestbps</th>\n      <th>chol</th>\n      <th>fbs</th>\n      <th>restecg</th>\n      <th>thalach</th>\n      <th>exang</th>\n      <th>oldpeak</th>\n      <th>slope</th>\n      <th>ca</th>\n      <th>thal</th>\n      <th>target</th>\n    </tr>\n  </thead>\n  <tbody>\n    <tr>\n      <th>0</th>\n      <td>63</td>\n      <td>1</td>\n      <td>3</td>\n      <td>145</td>\n      <td>233</td>\n      <td>1</td>\n      <td>0</td>\n      <td>150</td>\n      <td>0</td>\n      <td>2.3</td>\n      <td>0</td>\n      <td>0</td>\n      <td>1</td>\n      <td>1</td>\n    </tr>\n    <tr>\n      <th>1</th>\n      <td>37</td>\n      <td>1</td>\n      <td>2</td>\n      <td>130</td>\n      <td>250</td>\n      <td>0</td>\n      <td>1</td>\n      <td>187</td>\n      <td>0</td>\n      <td>3.5</td>\n      <td>0</td>\n      <td>0</td>\n      <td>2</td>\n      <td>1</td>\n    </tr>\n    <tr>\n      <th>2</th>\n      <td>41</td>\n      <td>0</td>\n      <td>1</td>\n      <td>130</td>\n      <td>204</td>\n      <td>0</td>\n      <td>0</td>\n      <td>172</td>\n      <td>0</td>\n      <td>1.4</td>\n      <td>2</td>\n      <td>0</td>\n      <td>2</td>\n      <td>1</td>\n    </tr>\n    <tr>\n      <th>3</th>\n      <td>56</td>\n      <td>1</td>\n      <td>1</td>\n      <td>120</td>\n      <td>236</td>\n      <td>0</td>\n      <td>1</td>\n      <td>178</td>\n      <td>0</td>\n      <td>0.8</td>\n      <td>2</td>\n      <td>0</td>\n      <td>2</td>\n      <td>1</td>\n    </tr>\n    <tr>\n      <th>4</th>\n      <td>57</td>\n      <td>0</td>\n      <td>0</td>\n      <td>120</td>\n      <td>354</td>\n      <td>0</td>\n      <td>1</td>\n      <td>163</td>\n      <td>1</td>\n      <td>0.6</td>\n      <td>2</td>\n      <td>0</td>\n      <td>2</td>\n      <td>1</td>\n    </tr>\n    <tr>\n      <th>5</th>\n      <td>57</td>\n      <td>1</td>\n      <td>0</td>\n      <td>140</td>\n      <td>192</td>\n      <td>0</td>\n      <td>1</td>\n      <td>148</td>\n      <td>0</td>\n      <td>0.4</td>\n      <td>1</td>\n      <td>0</td>\n      <td>1</td>\n      <td>1</td>\n    </tr>\n    <tr>\n      <th>6</th>\n      <td>56</td>\n      <td>0</td>\n      <td>1</td>\n      <td>140</td>\n      <td>294</td>\n      <td>0</td>\n      <td>0</td>\n      <td>153</td>\n      <td>0</td>\n      <td>1.3</td>\n      <td>1</td>\n      <td>0</td>\n      <td>2</td>\n      <td>1</td>\n    </tr>\n    <tr>\n      <th>7</th>\n      <td>44</td>\n      <td>1</td>\n      <td>1</td>\n      <td>120</td>\n      <td>263</td>\n      <td>0</td>\n      <td>1</td>\n      <td>173</td>\n      <td>0</td>\n      <td>0.0</td>\n      <td>2</td>\n      <td>0</td>\n      <td>3</td>\n      <td>1</td>\n    </tr>\n    <tr>\n      <th>8</th>\n      <td>52</td>\n      <td>1</td>\n      <td>2</td>\n      <td>172</td>\n      <td>199</td>\n      <td>1</td>\n      <td>1</td>\n      <td>162</td>\n      <td>0</td>\n      <td>0.5</td>\n      <td>2</td>\n      <td>0</td>\n      <td>3</td>\n      <td>1</td>\n    </tr>\n    <tr>\n      <th>9</th>\n      <td>57</td>\n      <td>1</td>\n      <td>2</td>\n      <td>150</td>\n      <td>168</td>\n      <td>0</td>\n      <td>1</td>\n      <td>174</td>\n      <td>0</td>\n      <td>1.6</td>\n      <td>2</td>\n      <td>0</td>\n      <td>2</td>\n      <td>1</td>\n    </tr>\n  </tbody>\n</table>\n</div>"
     },
     "metadata": {},
     "execution_count": 54
    }
   ],
   "source": [
    "data.head(10)"
   ]
  },
  {
   "cell_type": "code",
   "execution_count": 55,
   "metadata": {},
   "outputs": [],
   "source": [
    "data.columns = ['age', 'sex', 'chest_pain', 'rest_blood_pressure', 'cholesterol', 'fast_blood_sugar', 'rest_ecg', 'max_heart_rate', 'exercise_angina', 'st_depression', 'st_slope', 'major_vessels', 'thalassemia', 'target']"
   ]
  },
  {
   "cell_type": "code",
   "execution_count": 57,
   "metadata": {},
   "outputs": [
    {
     "output_type": "execute_result",
     "data": {
      "text/plain": [
       "age                    0\n",
       "sex                    0\n",
       "chest_pain             0\n",
       "rest_blood_pressure    0\n",
       "cholesterol            0\n",
       "fast_blood_sugar       0\n",
       "rest_ecg               0\n",
       "max_heart_rate         0\n",
       "exercise_angina        0\n",
       "st_depression          0\n",
       "st_slope               0\n",
       "major_vessels          0\n",
       "thalassemia            0\n",
       "target                 0\n",
       "dtype: int64"
      ]
     },
     "metadata": {},
     "execution_count": 57
    }
   ],
   "source": [
    "data.isnull().sum()"
   ]
  },
  {
   "cell_type": "code",
   "execution_count": 30,
   "metadata": {},
   "outputs": [
    {
     "output_type": "execute_result",
     "data": {
      "text/plain": [
       "age                      int64\n",
       "sex                     object\n",
       "chest_pain               int64\n",
       "rest_blood_pressure      int64\n",
       "cholesterol              int64\n",
       "fast_blood_sugar        object\n",
       "rest_ecg                 int64\n",
       "max_heart_rate           int64\n",
       "exercise_angina          int64\n",
       "st_depression          float64\n",
       "st_slope                 int64\n",
       "major_vessels            int64\n",
       "thalassemia              int64\n",
       "target                   int64\n",
       "dtype: object"
      ]
     },
     "metadata": {},
     "execution_count": 30
    }
   ],
   "source": [
    "data.dtypes"
   ]
  },
  {
   "cell_type": "code",
   "execution_count": 58,
   "metadata": {},
   "outputs": [],
   "source": [
    "data['sex'][data['sex'] == 0] = 'female'\n",
    "data['sex'][data['sex'] == 1] = 'male'\n",
    "data['sex'] = data['sex'].astype('object')\n",
    "\n",
    "data['chest_pain'][data['chest_pain'] == 0] = 'typical angina'\n",
    "data['chest_pain'][data['chest_pain'] == 1] = 'atypical angina'\n",
    "data['chest_pain'][data['chest_pain'] == 2] = 'non-anginal pain'\n",
    "data['chest_pain'][data['chest_pain'] == 3] = 'asymptomatic'\n",
    "data['chest_pain'] = data['chest_pain'].astype('object')\n",
    "\n",
    "data['fast_blood_sugar'][data['fast_blood_sugar'] == 0] = '≤ 120mg/ml'\n",
    "data['fast_blood_sugar'][data['fast_blood_sugar'] == 1] = '> 120mg/ml'\n",
    "data['fast_blood_sugar'] = data['fast_blood_sugar'].astype('object')\n",
    "\n",
    "data['rest_ecg'][data['rest_ecg'] == 0] = 'normal'\n",
    "data['rest_ecg'][data['rest_ecg'] == 1] = 'ST-T wave abnormality'\n",
    "data['rest_ecg'][data['rest_ecg'] == 2] = ' left ventricular hypertrophy'\n",
    "data['rest_ecg'] = data['rest_ecg'].astype('object')\n",
    "\n",
    "data['exercise_angina'][data['exercise_angina'] == 0] = 'no'\n",
    "data['exercise_angina'][data['exercise_angina'] == 1] = 'yes'\n",
    "data['exercise_angina'] = data['exercise_angina'].astype('object')\n",
    "\n",
    "data['st_slope'][data['st_slope'] == 0] = 'up'\n",
    "data['st_slope'][data['st_slope'] == 1] = 'flat'\n",
    "data['st_slope'][data['st_slope'] == 2] = 'down'\n",
    "data['st_slope'] = data['st_slope'].astype('object')\n",
    "\n",
    "data['thalassemia'][data['thalassemia'] == 0] = 'normal'\n",
    "data['thalassemia'][data['thalassemia'] == 1] = 'fixed defect'\n",
    "data['thalassemia'][data['thalassemia'] == 2] = 'reversable defect'\n",
    "data['thalassemia'] = data['thalassemia'].astype('object')\n",
    "\n"
   ]
  },
  {
   "cell_type": "code",
   "execution_count": 59,
   "metadata": {},
   "outputs": [
    {
     "output_type": "execute_result",
     "data": {
      "text/plain": [
       "              age  rest_blood_pressure  cholesterol  max_heart_rate  \\\n",
       "count  303.000000           303.000000   303.000000      303.000000   \n",
       "mean    54.366337           131.623762   246.264026      149.646865   \n",
       "std      9.082101            17.538143    51.830751       22.905161   \n",
       "min     29.000000            94.000000   126.000000       71.000000   \n",
       "25%     47.500000           120.000000   211.000000      133.500000   \n",
       "50%     55.000000           130.000000   240.000000      153.000000   \n",
       "75%     61.000000           140.000000   274.500000      166.000000   \n",
       "max     77.000000           200.000000   564.000000      202.000000   \n",
       "\n",
       "       st_depression  major_vessels      target  \n",
       "count     303.000000     303.000000  303.000000  \n",
       "mean        1.039604       0.729373    0.544554  \n",
       "std         1.161075       1.022606    0.498835  \n",
       "min         0.000000       0.000000    0.000000  \n",
       "25%         0.000000       0.000000    0.000000  \n",
       "50%         0.800000       0.000000    1.000000  \n",
       "75%         1.600000       1.000000    1.000000  \n",
       "max         6.200000       4.000000    1.000000  "
      ],
      "text/html": "<div>\n<style scoped>\n    .dataframe tbody tr th:only-of-type {\n        vertical-align: middle;\n    }\n\n    .dataframe tbody tr th {\n        vertical-align: top;\n    }\n\n    .dataframe thead th {\n        text-align: right;\n    }\n</style>\n<table border=\"1\" class=\"dataframe\">\n  <thead>\n    <tr style=\"text-align: right;\">\n      <th></th>\n      <th>age</th>\n      <th>rest_blood_pressure</th>\n      <th>cholesterol</th>\n      <th>max_heart_rate</th>\n      <th>st_depression</th>\n      <th>major_vessels</th>\n      <th>target</th>\n    </tr>\n  </thead>\n  <tbody>\n    <tr>\n      <th>count</th>\n      <td>303.000000</td>\n      <td>303.000000</td>\n      <td>303.000000</td>\n      <td>303.000000</td>\n      <td>303.000000</td>\n      <td>303.000000</td>\n      <td>303.000000</td>\n    </tr>\n    <tr>\n      <th>mean</th>\n      <td>54.366337</td>\n      <td>131.623762</td>\n      <td>246.264026</td>\n      <td>149.646865</td>\n      <td>1.039604</td>\n      <td>0.729373</td>\n      <td>0.544554</td>\n    </tr>\n    <tr>\n      <th>std</th>\n      <td>9.082101</td>\n      <td>17.538143</td>\n      <td>51.830751</td>\n      <td>22.905161</td>\n      <td>1.161075</td>\n      <td>1.022606</td>\n      <td>0.498835</td>\n    </tr>\n    <tr>\n      <th>min</th>\n      <td>29.000000</td>\n      <td>94.000000</td>\n      <td>126.000000</td>\n      <td>71.000000</td>\n      <td>0.000000</td>\n      <td>0.000000</td>\n      <td>0.000000</td>\n    </tr>\n    <tr>\n      <th>25%</th>\n      <td>47.500000</td>\n      <td>120.000000</td>\n      <td>211.000000</td>\n      <td>133.500000</td>\n      <td>0.000000</td>\n      <td>0.000000</td>\n      <td>0.000000</td>\n    </tr>\n    <tr>\n      <th>50%</th>\n      <td>55.000000</td>\n      <td>130.000000</td>\n      <td>240.000000</td>\n      <td>153.000000</td>\n      <td>0.800000</td>\n      <td>0.000000</td>\n      <td>1.000000</td>\n    </tr>\n    <tr>\n      <th>75%</th>\n      <td>61.000000</td>\n      <td>140.000000</td>\n      <td>274.500000</td>\n      <td>166.000000</td>\n      <td>1.600000</td>\n      <td>1.000000</td>\n      <td>1.000000</td>\n    </tr>\n    <tr>\n      <th>max</th>\n      <td>77.000000</td>\n      <td>200.000000</td>\n      <td>564.000000</td>\n      <td>202.000000</td>\n      <td>6.200000</td>\n      <td>4.000000</td>\n      <td>1.000000</td>\n    </tr>\n  </tbody>\n</table>\n</div>"
     },
     "metadata": {},
     "execution_count": 59
    }
   ],
   "source": [
    "data.describe()"
   ]
  },
  {
   "cell_type": "code",
   "execution_count": 60,
   "metadata": {},
   "outputs": [
    {
     "output_type": "execute_result",
     "data": {
      "text/plain": [
       "   age     sex        chest_pain  rest_blood_pressure  cholesterol  \\\n",
       "0   63    male      asymptomatic                  145          233   \n",
       "1   37    male  non-anginal pain                  130          250   \n",
       "2   41  female   atypical angina                  130          204   \n",
       "3   56    male   atypical angina                  120          236   \n",
       "4   57  female    typical angina                  120          354   \n",
       "5   57    male    typical angina                  140          192   \n",
       "6   56  female   atypical angina                  140          294   \n",
       "7   44    male   atypical angina                  120          263   \n",
       "8   52    male  non-anginal pain                  172          199   \n",
       "9   57    male  non-anginal pain                  150          168   \n",
       "\n",
       "  fast_blood_sugar               rest_ecg  max_heart_rate exercise_angina  \\\n",
       "0       > 120mg/ml                 normal             150              no   \n",
       "1       ≤ 120mg/ml  ST-T wave abnormality             187              no   \n",
       "2       ≤ 120mg/ml                 normal             172              no   \n",
       "3       ≤ 120mg/ml  ST-T wave abnormality             178              no   \n",
       "4       ≤ 120mg/ml  ST-T wave abnormality             163             yes   \n",
       "5       ≤ 120mg/ml  ST-T wave abnormality             148              no   \n",
       "6       ≤ 120mg/ml                 normal             153              no   \n",
       "7       ≤ 120mg/ml  ST-T wave abnormality             173              no   \n",
       "8       > 120mg/ml  ST-T wave abnormality             162              no   \n",
       "9       ≤ 120mg/ml  ST-T wave abnormality             174              no   \n",
       "\n",
       "   st_depression st_slope  major_vessels        thalassemia  target  \n",
       "0            2.3       up              0       fixed defect       1  \n",
       "1            3.5       up              0  reversable defect       1  \n",
       "2            1.4     down              0  reversable defect       1  \n",
       "3            0.8     down              0  reversable defect       1  \n",
       "4            0.6     down              0  reversable defect       1  \n",
       "5            0.4     flat              0       fixed defect       1  \n",
       "6            1.3     flat              0  reversable defect       1  \n",
       "7            0.0     down              0                  3       1  \n",
       "8            0.5     down              0                  3       1  \n",
       "9            1.6     down              0  reversable defect       1  "
      ],
      "text/html": "<div>\n<style scoped>\n    .dataframe tbody tr th:only-of-type {\n        vertical-align: middle;\n    }\n\n    .dataframe tbody tr th {\n        vertical-align: top;\n    }\n\n    .dataframe thead th {\n        text-align: right;\n    }\n</style>\n<table border=\"1\" class=\"dataframe\">\n  <thead>\n    <tr style=\"text-align: right;\">\n      <th></th>\n      <th>age</th>\n      <th>sex</th>\n      <th>chest_pain</th>\n      <th>rest_blood_pressure</th>\n      <th>cholesterol</th>\n      <th>fast_blood_sugar</th>\n      <th>rest_ecg</th>\n      <th>max_heart_rate</th>\n      <th>exercise_angina</th>\n      <th>st_depression</th>\n      <th>st_slope</th>\n      <th>major_vessels</th>\n      <th>thalassemia</th>\n      <th>target</th>\n    </tr>\n  </thead>\n  <tbody>\n    <tr>\n      <th>0</th>\n      <td>63</td>\n      <td>male</td>\n      <td>asymptomatic</td>\n      <td>145</td>\n      <td>233</td>\n      <td>&gt; 120mg/ml</td>\n      <td>normal</td>\n      <td>150</td>\n      <td>no</td>\n      <td>2.3</td>\n      <td>up</td>\n      <td>0</td>\n      <td>fixed defect</td>\n      <td>1</td>\n    </tr>\n    <tr>\n      <th>1</th>\n      <td>37</td>\n      <td>male</td>\n      <td>non-anginal pain</td>\n      <td>130</td>\n      <td>250</td>\n      <td>≤ 120mg/ml</td>\n      <td>ST-T wave abnormality</td>\n      <td>187</td>\n      <td>no</td>\n      <td>3.5</td>\n      <td>up</td>\n      <td>0</td>\n      <td>reversable defect</td>\n      <td>1</td>\n    </tr>\n    <tr>\n      <th>2</th>\n      <td>41</td>\n      <td>female</td>\n      <td>atypical angina</td>\n      <td>130</td>\n      <td>204</td>\n      <td>≤ 120mg/ml</td>\n      <td>normal</td>\n      <td>172</td>\n      <td>no</td>\n      <td>1.4</td>\n      <td>down</td>\n      <td>0</td>\n      <td>reversable defect</td>\n      <td>1</td>\n    </tr>\n    <tr>\n      <th>3</th>\n      <td>56</td>\n      <td>male</td>\n      <td>atypical angina</td>\n      <td>120</td>\n      <td>236</td>\n      <td>≤ 120mg/ml</td>\n      <td>ST-T wave abnormality</td>\n      <td>178</td>\n      <td>no</td>\n      <td>0.8</td>\n      <td>down</td>\n      <td>0</td>\n      <td>reversable defect</td>\n      <td>1</td>\n    </tr>\n    <tr>\n      <th>4</th>\n      <td>57</td>\n      <td>female</td>\n      <td>typical angina</td>\n      <td>120</td>\n      <td>354</td>\n      <td>≤ 120mg/ml</td>\n      <td>ST-T wave abnormality</td>\n      <td>163</td>\n      <td>yes</td>\n      <td>0.6</td>\n      <td>down</td>\n      <td>0</td>\n      <td>reversable defect</td>\n      <td>1</td>\n    </tr>\n    <tr>\n      <th>5</th>\n      <td>57</td>\n      <td>male</td>\n      <td>typical angina</td>\n      <td>140</td>\n      <td>192</td>\n      <td>≤ 120mg/ml</td>\n      <td>ST-T wave abnormality</td>\n      <td>148</td>\n      <td>no</td>\n      <td>0.4</td>\n      <td>flat</td>\n      <td>0</td>\n      <td>fixed defect</td>\n      <td>1</td>\n    </tr>\n    <tr>\n      <th>6</th>\n      <td>56</td>\n      <td>female</td>\n      <td>atypical angina</td>\n      <td>140</td>\n      <td>294</td>\n      <td>≤ 120mg/ml</td>\n      <td>normal</td>\n      <td>153</td>\n      <td>no</td>\n      <td>1.3</td>\n      <td>flat</td>\n      <td>0</td>\n      <td>reversable defect</td>\n      <td>1</td>\n    </tr>\n    <tr>\n      <th>7</th>\n      <td>44</td>\n      <td>male</td>\n      <td>atypical angina</td>\n      <td>120</td>\n      <td>263</td>\n      <td>≤ 120mg/ml</td>\n      <td>ST-T wave abnormality</td>\n      <td>173</td>\n      <td>no</td>\n      <td>0.0</td>\n      <td>down</td>\n      <td>0</td>\n      <td>3</td>\n      <td>1</td>\n    </tr>\n    <tr>\n      <th>8</th>\n      <td>52</td>\n      <td>male</td>\n      <td>non-anginal pain</td>\n      <td>172</td>\n      <td>199</td>\n      <td>&gt; 120mg/ml</td>\n      <td>ST-T wave abnormality</td>\n      <td>162</td>\n      <td>no</td>\n      <td>0.5</td>\n      <td>down</td>\n      <td>0</td>\n      <td>3</td>\n      <td>1</td>\n    </tr>\n    <tr>\n      <th>9</th>\n      <td>57</td>\n      <td>male</td>\n      <td>non-anginal pain</td>\n      <td>150</td>\n      <td>168</td>\n      <td>≤ 120mg/ml</td>\n      <td>ST-T wave abnormality</td>\n      <td>174</td>\n      <td>no</td>\n      <td>1.6</td>\n      <td>down</td>\n      <td>0</td>\n      <td>reversable defect</td>\n      <td>1</td>\n    </tr>\n  </tbody>\n</table>\n</div>"
     },
     "metadata": {},
     "execution_count": 60
    }
   ],
   "source": [
    "data.head(10)"
   ]
  },
  {
   "cell_type": "code",
   "execution_count": 73,
   "metadata": {},
   "outputs": [
    {
     "output_type": "execute_result",
     "data": {
      "text/plain": [
       "   age  sex_male  rest_blood_pressure  cholesterol  max_heart_rate  \\\n",
       "0   63         1                  145          233             150   \n",
       "1   37         1                  130          250             187   \n",
       "2   41         0                  130          204             172   \n",
       "3   56         1                  120          236             178   \n",
       "4   57         0                  120          354             163   \n",
       "5   57         1                  140          192             148   \n",
       "6   56         0                  140          294             153   \n",
       "7   44         1                  120          263             173   \n",
       "8   52         1                  172          199             162   \n",
       "9   57         1                  150          168             174   \n",
       "\n",
       "   st_depression  major_vessels  chest_pain_atypical angina  \\\n",
       "0            2.3              0                           0   \n",
       "1            3.5              0                           0   \n",
       "2            1.4              0                           1   \n",
       "3            0.8              0                           1   \n",
       "4            0.6              0                           0   \n",
       "5            0.4              0                           0   \n",
       "6            1.3              0                           1   \n",
       "7            0.0              0                           1   \n",
       "8            0.5              0                           0   \n",
       "9            1.6              0                           0   \n",
       "\n",
       "   chest_pain_non-anginal pain  chest_pain_typical angina  \\\n",
       "0                            0                          0   \n",
       "1                            1                          0   \n",
       "2                            0                          0   \n",
       "3                            0                          0   \n",
       "4                            0                          1   \n",
       "5                            0                          1   \n",
       "6                            0                          0   \n",
       "7                            0                          0   \n",
       "8                            1                          0   \n",
       "9                            1                          0   \n",
       "\n",
       "   fast_blood_sugar_≤ 120mg/ml  rest_ecg_ST-T wave abnormality  \\\n",
       "0                            0                               0   \n",
       "1                            1                               1   \n",
       "2                            1                               0   \n",
       "3                            1                               1   \n",
       "4                            1                               1   \n",
       "5                            1                               1   \n",
       "6                            1                               0   \n",
       "7                            1                               1   \n",
       "8                            0                               1   \n",
       "9                            1                               1   \n",
       "\n",
       "   rest_ecg_normal  exercise_angina_yes  st_slope_flat  st_slope_up  \\\n",
       "0                1                    0              0            1   \n",
       "1                0                    0              0            1   \n",
       "2                1                    0              0            0   \n",
       "3                0                    0              0            0   \n",
       "4                0                    1              0            0   \n",
       "5                0                    0              1            0   \n",
       "6                1                    0              1            0   \n",
       "7                0                    0              0            0   \n",
       "8                0                    0              0            0   \n",
       "9                0                    0              0            0   \n",
       "\n",
       "   thalassemia_fixed defect  thalassemia_normal  \\\n",
       "0                         1                   0   \n",
       "1                         0                   0   \n",
       "2                         0                   0   \n",
       "3                         0                   0   \n",
       "4                         0                   0   \n",
       "5                         1                   0   \n",
       "6                         0                   0   \n",
       "7                         0                   0   \n",
       "8                         0                   0   \n",
       "9                         0                   0   \n",
       "\n",
       "   thalassemia_reversable defect  target  \n",
       "0                              0       1  \n",
       "1                              1       1  \n",
       "2                              1       1  \n",
       "3                              1       1  \n",
       "4                              1       1  \n",
       "5                              0       1  \n",
       "6                              1       1  \n",
       "7                              0       1  \n",
       "8                              0       1  \n",
       "9                              1       1  "
      ],
      "text/html": "<div>\n<style scoped>\n    .dataframe tbody tr th:only-of-type {\n        vertical-align: middle;\n    }\n\n    .dataframe tbody tr th {\n        vertical-align: top;\n    }\n\n    .dataframe thead th {\n        text-align: right;\n    }\n</style>\n<table border=\"1\" class=\"dataframe\">\n  <thead>\n    <tr style=\"text-align: right;\">\n      <th></th>\n      <th>age</th>\n      <th>sex_male</th>\n      <th>rest_blood_pressure</th>\n      <th>cholesterol</th>\n      <th>max_heart_rate</th>\n      <th>st_depression</th>\n      <th>major_vessels</th>\n      <th>chest_pain_atypical angina</th>\n      <th>chest_pain_non-anginal pain</th>\n      <th>chest_pain_typical angina</th>\n      <th>fast_blood_sugar_≤ 120mg/ml</th>\n      <th>rest_ecg_ST-T wave abnormality</th>\n      <th>rest_ecg_normal</th>\n      <th>exercise_angina_yes</th>\n      <th>st_slope_flat</th>\n      <th>st_slope_up</th>\n      <th>thalassemia_fixed defect</th>\n      <th>thalassemia_normal</th>\n      <th>thalassemia_reversable defect</th>\n      <th>target</th>\n    </tr>\n  </thead>\n  <tbody>\n    <tr>\n      <th>0</th>\n      <td>63</td>\n      <td>1</td>\n      <td>145</td>\n      <td>233</td>\n      <td>150</td>\n      <td>2.3</td>\n      <td>0</td>\n      <td>0</td>\n      <td>0</td>\n      <td>0</td>\n      <td>0</td>\n      <td>0</td>\n      <td>1</td>\n      <td>0</td>\n      <td>0</td>\n      <td>1</td>\n      <td>1</td>\n      <td>0</td>\n      <td>0</td>\n      <td>1</td>\n    </tr>\n    <tr>\n      <th>1</th>\n      <td>37</td>\n      <td>1</td>\n      <td>130</td>\n      <td>250</td>\n      <td>187</td>\n      <td>3.5</td>\n      <td>0</td>\n      <td>0</td>\n      <td>1</td>\n      <td>0</td>\n      <td>1</td>\n      <td>1</td>\n      <td>0</td>\n      <td>0</td>\n      <td>0</td>\n      <td>1</td>\n      <td>0</td>\n      <td>0</td>\n      <td>1</td>\n      <td>1</td>\n    </tr>\n    <tr>\n      <th>2</th>\n      <td>41</td>\n      <td>0</td>\n      <td>130</td>\n      <td>204</td>\n      <td>172</td>\n      <td>1.4</td>\n      <td>0</td>\n      <td>1</td>\n      <td>0</td>\n      <td>0</td>\n      <td>1</td>\n      <td>0</td>\n      <td>1</td>\n      <td>0</td>\n      <td>0</td>\n      <td>0</td>\n      <td>0</td>\n      <td>0</td>\n      <td>1</td>\n      <td>1</td>\n    </tr>\n    <tr>\n      <th>3</th>\n      <td>56</td>\n      <td>1</td>\n      <td>120</td>\n      <td>236</td>\n      <td>178</td>\n      <td>0.8</td>\n      <td>0</td>\n      <td>1</td>\n      <td>0</td>\n      <td>0</td>\n      <td>1</td>\n      <td>1</td>\n      <td>0</td>\n      <td>0</td>\n      <td>0</td>\n      <td>0</td>\n      <td>0</td>\n      <td>0</td>\n      <td>1</td>\n      <td>1</td>\n    </tr>\n    <tr>\n      <th>4</th>\n      <td>57</td>\n      <td>0</td>\n      <td>120</td>\n      <td>354</td>\n      <td>163</td>\n      <td>0.6</td>\n      <td>0</td>\n      <td>0</td>\n      <td>0</td>\n      <td>1</td>\n      <td>1</td>\n      <td>1</td>\n      <td>0</td>\n      <td>1</td>\n      <td>0</td>\n      <td>0</td>\n      <td>0</td>\n      <td>0</td>\n      <td>1</td>\n      <td>1</td>\n    </tr>\n    <tr>\n      <th>5</th>\n      <td>57</td>\n      <td>1</td>\n      <td>140</td>\n      <td>192</td>\n      <td>148</td>\n      <td>0.4</td>\n      <td>0</td>\n      <td>0</td>\n      <td>0</td>\n      <td>1</td>\n      <td>1</td>\n      <td>1</td>\n      <td>0</td>\n      <td>0</td>\n      <td>1</td>\n      <td>0</td>\n      <td>1</td>\n      <td>0</td>\n      <td>0</td>\n      <td>1</td>\n    </tr>\n    <tr>\n      <th>6</th>\n      <td>56</td>\n      <td>0</td>\n      <td>140</td>\n      <td>294</td>\n      <td>153</td>\n      <td>1.3</td>\n      <td>0</td>\n      <td>1</td>\n      <td>0</td>\n      <td>0</td>\n      <td>1</td>\n      <td>0</td>\n      <td>1</td>\n      <td>0</td>\n      <td>1</td>\n      <td>0</td>\n      <td>0</td>\n      <td>0</td>\n      <td>1</td>\n      <td>1</td>\n    </tr>\n    <tr>\n      <th>7</th>\n      <td>44</td>\n      <td>1</td>\n      <td>120</td>\n      <td>263</td>\n      <td>173</td>\n      <td>0.0</td>\n      <td>0</td>\n      <td>1</td>\n      <td>0</td>\n      <td>0</td>\n      <td>1</td>\n      <td>1</td>\n      <td>0</td>\n      <td>0</td>\n      <td>0</td>\n      <td>0</td>\n      <td>0</td>\n      <td>0</td>\n      <td>0</td>\n      <td>1</td>\n    </tr>\n    <tr>\n      <th>8</th>\n      <td>52</td>\n      <td>1</td>\n      <td>172</td>\n      <td>199</td>\n      <td>162</td>\n      <td>0.5</td>\n      <td>0</td>\n      <td>0</td>\n      <td>1</td>\n      <td>0</td>\n      <td>0</td>\n      <td>1</td>\n      <td>0</td>\n      <td>0</td>\n      <td>0</td>\n      <td>0</td>\n      <td>0</td>\n      <td>0</td>\n      <td>0</td>\n      <td>1</td>\n    </tr>\n    <tr>\n      <th>9</th>\n      <td>57</td>\n      <td>1</td>\n      <td>150</td>\n      <td>168</td>\n      <td>174</td>\n      <td>1.6</td>\n      <td>0</td>\n      <td>0</td>\n      <td>1</td>\n      <td>0</td>\n      <td>1</td>\n      <td>1</td>\n      <td>0</td>\n      <td>0</td>\n      <td>0</td>\n      <td>0</td>\n      <td>0</td>\n      <td>0</td>\n      <td>1</td>\n      <td>1</td>\n    </tr>\n  </tbody>\n</table>\n</div>"
     },
     "metadata": {},
     "execution_count": 73
    }
   ],
   "source": [
    "# For the categorical variables, we need to create dummies\n",
    "# Drop first category of each, eg. rather than having 'male' and 'female', male' with values of 0 or 1 (1 male, and 0 female)\n",
    "\n",
    "# useful?\n",
    "\n",
    "data = pd.get_dummies(data, drop_first=True)\n",
    "data.head(10)"
   ]
  },
  {
   "cell_type": "code",
   "execution_count": 72,
   "metadata": {},
   "outputs": [],
   "source": [
    "# reorder columns to have target as last and sex as second\n",
    "\n",
    "data = data[['age', 'sex_male', 'rest_blood_pressure', 'cholesterol', 'max_heart_rate', 'st_depression', 'major_vessels', 'chest_pain_atypical angina', 'chest_pain_non-anginal pain', 'chest_pain_typical angina', 'fast_blood_sugar_≤ 120mg/ml', 'rest_ecg_ST-T wave abnormality', 'rest_ecg_normal', 'exercise_angina_yes', 'st_slope_flat', 'st_slope_up', 'thalassemia_fixed defect', 'thalassemia_normal', 'thalassemia_reversable defect',  'target']]"
   ]
  },
  {
   "source": [
    "## Data analysis"
   ],
   "cell_type": "markdown",
   "metadata": {}
  },
  {
   "cell_type": "code",
   "execution_count": 74,
   "metadata": {},
   "outputs": [],
   "source": [
    "# Split into train and test set \n",
    "data = dataframe_to_tensor(data)\n",
    "\n",
    "X, y = data[:, :-1], data[:, -1]\n",
    "\n",
    "x_train, x_test, y_train, y_test = train_test_split(X, y, test_size=0.8)"
   ]
  },
  {
   "cell_type": "code",
   "execution_count": null,
   "metadata": {},
   "outputs": [],
   "source": []
  }
 ]
}